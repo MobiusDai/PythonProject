{
 "cells": [
  {
   "cell_type": "code",
   "execution_count": 1,
   "metadata": {},
   "outputs": [],
   "source": [
    "from mnist_web import mnist\n",
    "import numpy as np\n",
    "import matplotlib.pyplot as plt"
   ]
  },
  {
   "cell_type": "code",
   "execution_count": 2,
   "metadata": {},
   "outputs": [],
   "source": [
    "#download the dataset using mnist_web\n",
    "x_train, y_train, x_test, y_test = mnist(path='./data')"
   ]
  },
  {
   "cell_type": "code",
   "execution_count": 3,
   "metadata": {},
   "outputs": [
    {
     "name": "stdout",
     "output_type": "stream",
     "text": [
      "The type of x_train  :  float32\n",
      "The type of x_test   :  float32\n",
      "The shape of X_train :  (60000, 784)\n",
      "The shape of X_test  :  (10000, 784)\n"
     ]
    }
   ],
   "source": [
    "#check the format and shape of x_train, x_test\n",
    "print('The type of x_train  : ', x_train.dtype)\n",
    "print('The type of x_test   : ', x_test.dtype)\n",
    "\n",
    "print('The shape of X_train : ', x_train.shape)\n",
    "print('The shape of X_test  : ', x_test.shape)"
   ]
  },
  {
   "cell_type": "markdown",
   "metadata": {},
   "source": [
    "### Least Squares Classifier"
   ]
  },
  {
   "cell_type": "code",
   "execution_count": 4,
   "metadata": {},
   "outputs": [],
   "source": [
    "#Change the format of X_train， X_test, y_train, y_test\n",
    "def process_data(X, y):\n",
    "    X_Data = [[] for i in range(10)]\n",
    "    Y_Data = [[] for i in range(10)]\n",
    "\n",
    "    for i in range(len(X)):\n",
    "        item_x = X[i, :]\n",
    "        item_y = np.where(y[i, :] == True)[0][0]\n",
    "        X_Data[item_y].append(item_x)\n",
    "        Y_Data[item_y].append(1)\n",
    "\n",
    "    for i in range(10):\n",
    "        X_Data[i] = np.array(X_Data[i])\n",
    "        Y_Data[i] = np.array(Y_Data[i])\n",
    "\n",
    "    return X_Data, Y_Data"
   ]
  },
  {
   "cell_type": "code",
   "execution_count": 5,
   "metadata": {},
   "outputs": [],
   "source": [
    "### Binary Classifier (Least Square)\n",
    "def SquareLeast(X, y):\n",
    "    \n",
    "    X_1 = np.concatenate([X, np.ones(shape=(X.shape[0], 1))], axis=1)\n",
    "    XTX = X_1.T@X_1\n",
    "    if np.linalg.matrix_rank(XTX) == XTX.shape[0]:\n",
    "        XTX_inv = np.linalg.inv(XTX)\n",
    "    else:\n",
    "        # U, Sigma, V = np.linalg.svd(XTX)\n",
    "        # XTX_inv = V.T@np.linalg.inv(np.diag(Sigma))@U.T\n",
    "        XTX_inv = np.linalg.pinv(XTX)\n",
    "    beta = XTX_inv@X_1.T@y\n",
    "    \n",
    "    Beta = beta[0:-1]\n",
    "    Alpha = beta[-1]\n",
    "\n",
    "    return Beta, Alpha "
   ]
  },
  {
   "cell_type": "code",
   "execution_count": 6,
   "metadata": {},
   "outputs": [],
   "source": [
    "### One-vs-One Multi-Classifier\n",
    "def Multi_Classifier_One_vs_One(X, y):\n",
    "    \n",
    "    beta  = np.zeros(shape=(10, 10, X.shape[1]))\n",
    "    alpha = np.zeros(shape=(10, 10, 1))\n",
    "    \n",
    "    X_train, Y_train = process_data(X, y)\n",
    "\n",
    "    for i in range(0, 10):\n",
    "        for j in range(i+1, 10):\n",
    "            X_Temp = np.concatenate([X_train[i], X_train[j]], axis=0)\n",
    "            Y_Temp = np.concatenate([Y_train[i], (-1)*Y_train[j]], axis=0)\n",
    "            beta_temp, alpha_temp = SquareLeast(X_Temp, Y_Temp)\n",
    "            beta[i, j] = beta_temp\n",
    "            alpha[i, j] = alpha_temp\n",
    "\n",
    "    return beta, alpha"
   ]
  },
  {
   "cell_type": "code",
   "execution_count": 7,
   "metadata": {},
   "outputs": [],
   "source": [
    "### One-vs-All Multi-Classifier\n",
    "def Multi_Classifier_One_vs_All(X, y):\n",
    "\n",
    "    beta  = np.zeros(shape=(10, X.shape[1]))\n",
    "    alpha = np.zeros(shape=(10, 1))\n",
    "    \n",
    "    X_train, Y_train = process_data(X, y)\n",
    "\n",
    "    for i in range(10):\n",
    "        X_Temp = X_train[i]\n",
    "        Y_Temp = Y_train[i]\n",
    "        for j in range(10):\n",
    "            if j == i : continue\n",
    "            X_Temp = np.concatenate([X_Temp, X_train[j]], axis=0)\n",
    "            Y_Temp = np.concatenate([Y_Temp, (-1)*Y_train[j]], axis=0)\n",
    "        beta_temp, alpha_temp = SquareLeast(X_Temp, Y_Temp)\n",
    "        beta[i] = beta_temp\n",
    "        alpha[i] = alpha_temp\n",
    "\n",
    "    return beta, alpha"
   ]
  },
  {
   "cell_type": "code",
   "execution_count": 8,
   "metadata": {},
   "outputs": [],
   "source": [
    "### Evaluate the error of one-vs-one calssifier using error rate and confusion matrix\n",
    "def Train(X, y, Method):\n",
    "    if Method.__name__ == 'Multi_Classifier_One_vs_One':\n",
    "        Beta, Alpha = Multi_Classifier_One_vs_One(X, y)\n",
    "    else:\n",
    "        Beta, Alpha = Multi_Classifier_One_vs_All(X, y)\n",
    "    return Beta, Alpha\n",
    "\n",
    "def Evaluate(X, y, Method, Beta, Alpha, ERROR_RATE=True, CONFUSION_MATRIX=True):\n",
    "    Correct = 0\n",
    "    Confusion_matrix = np.zeros(shape=(10, 10))\n",
    "    Beta, Alpha = Beta, Alpha\n",
    "    \n",
    "    if Method.__name__ == 'Multi_Classifier_One_vs_One':\n",
    "        for k in range(X.shape[0]):\n",
    "            Vote = np.zeros(10)\n",
    "            Features = X[k, :]\n",
    "            for i in range(10):\n",
    "                for j in range(i+1, 10):\n",
    "                    beta, alpha = Beta[i, j], Alpha[i, j]\n",
    "                    y_pre = Features@beta + alpha\n",
    "                    if y_pre >= 0 : Vote[i] += 1\n",
    "                    else          : Vote[j] += 1\n",
    "            \n",
    "            y_real = np.where(y[k] == True)[0][0]\n",
    "            y_pre  = np.argmax(Vote)\n",
    "            Confusion_matrix[y_real][y_pre] += 1\n",
    "            if y_pre == y_real : Correct += 1\n",
    "    \n",
    "    else:\n",
    "        for k in range(X.shape[0]):\n",
    "            Vote = np.zeros(10)\n",
    "            Features = X[k, :]\n",
    "            for i in range(10):\n",
    "                beta, alpha = Beta[i], Alpha[i]\n",
    "                Vote[i] = Features@beta + alpha\n",
    "            y_real = np.where(y[k] == True)[0][0]\n",
    "            y_pre = np.argmax(Vote)\n",
    "            Confusion_matrix[y_real][y_pre] += 1\n",
    "            if y_pre == y_real : Correct += 1\n",
    "    \n",
    "    error_rate = 1 - Correct/len(y)\n",
    "\n",
    "    if ERROR_RATE and CONFUSION_MATRIX : return (error_rate, Confusion_matrix)\n",
    "    elif ERROR_RATE : return error_rate\n",
    "    else : return Confusion_matrix.astype(np.int64)"
   ]
  },
  {
   "cell_type": "code",
   "execution_count": 14,
   "metadata": {},
   "outputs": [
    {
     "name": "stdout",
     "output_type": "stream",
     "text": [
      "The error rate of one vs one classifier on train image is : 0.0622\n",
      "The confusion matrix of one vs one classifier is \n",
      " [[5806    3   15    8   11   19   22    6   32    1]\n",
      " [   2 6623   36   17    7   16    2   11   21    7]\n",
      " [  51   68 5522   49   57   20   42   44   92   13]\n",
      " [  26   42  119 5579    9  161   18   48   90   39]\n",
      " [  14   18   20    5 5586   11   14   16    8  150]\n",
      " [  44   47   39  138   23 4968   93   10   46   13]\n",
      " [  27   16   36    2   31   84 5691    0   30    1]\n",
      " [   9   76   53    7   69    9    0 5882    5  155]\n",
      " [  35  195   42  107   48  142   37   25 5155   65]\n",
      " [  22   14   17   82  155   30    3  137   31 5458]]\n",
      "--------------------------------------------------\n",
      "The error rate of one vs all classifier on train image is : 0.1423\n",
      "The confusion matrix of one vs all classifier is \n",
      " [[5682    7   18   14   24   43   64    4   61    6]\n",
      " [   2 6548   40   15   19   31   14   12   55    6]\n",
      " [  99  264 4792  149  108   11  234   91  192   18]\n",
      " [  42  167  176 5158   32  125   56  115  135  125]\n",
      " [  10   99   42    6 5212   50   39   23   59  302]\n",
      " [ 164   95   28  432  105 3991  192   36  235  143]\n",
      " [ 108   74   61    1   70   90 5476    0   35    3]\n",
      " [  55  189   37   47  170    9    2 5426   10  320]\n",
      " [  75  493   63  226  105  221   56   20 4412  180]\n",
      " [  68   60   20  117  371   12    4  492   38 4767]]\n"
     ]
    }
   ],
   "source": [
    "### Evaluate the training error of one-vs-one and one-vs-all classifier\n",
    "# train Image\n",
    "\n",
    "Beta_One_vs_One, Alpha_One_vs_One = Train(x_train, y_train, Method=Multi_Classifier_One_vs_One)\n",
    "Error_Rate, Confusion_Matrix = Evaluate(x_train, y_train, Multi_Classifier_One_vs_One, Beta_One_vs_One, Alpha_One_vs_One)\n",
    "print(f'The error rate of one vs one classifier on train image is : {Error_Rate:.4f}')\n",
    "print('The confusion matrix of one vs one classifier is \\n', Confusion_Matrix.astype(np.int64))\n",
    "\n",
    "print('-'*96)\n",
    "\n",
    "Beta_One_vs_All, Alpha_One_vs_All = Train(x_train, y_train, Method=Multi_Classifier_One_vs_All)\n",
    "Error_Rate, Confusion_Matrix = Evaluate(x_train, y_train, Multi_Classifier_One_vs_All, Beta_One_vs_All, Alpha_One_vs_All)\n",
    "print(f'The error rate of one vs all classifier on train image is : {Error_Rate:.4f}')\n",
    "print('The confusion matrix of one vs all classifier is \\n', Confusion_Matrix.astype(np.int64))"
   ]
  },
  {
   "cell_type": "code",
   "execution_count": 16,
   "metadata": {},
   "outputs": [
    {
     "name": "stdout",
     "output_type": "stream",
     "text": [
      "The error rate of one vs one classifier on train image is : 0.0703\n",
      "The confusion matrix of one vs one classifier is \n",
      " [[ 961    0    1    1    0    6    8    3    0    0]\n",
      " [   0 1120    3    2    1    1    4    1    3    0]\n",
      " [   9   18  936   12   10    5   10   10   22    0]\n",
      " [   9    1   18  926    2   20    1    7   21    5]\n",
      " [   2    4    6    1  932    1    7    3    3   23]\n",
      " [   7    5    3   30    8  799   18    2   15    5]\n",
      " [   7    5   12    0    5   19  908    0    2    0]\n",
      " [   1   16   17    3   11    1    0  955    1   23]\n",
      " [   7   17    8   23   10   36   10   10  840   13]\n",
      " [   6    5    1   11   30   12    0   21    3  920]]\n",
      "The Predict Accuracy of number 0 is 0.9806\n",
      "The Predict Accuracy of number 1 is 0.9868\n",
      "The Predict Accuracy of number 2 is 0.9070\n",
      "The Predict Accuracy of number 3 is 0.9168\n",
      "The Predict Accuracy of number 4 is 0.9491\n",
      "The Predict Accuracy of number 5 is 0.8957\n",
      "The Predict Accuracy of number 6 is 0.9478\n",
      "The Predict Accuracy of number 7 is 0.9290\n",
      "The Predict Accuracy of number 8 is 0.8624\n",
      "The Predict Accuracy of number 9 is 0.9118\n",
      "----------------------------------------------------------------\n",
      "The error rate of one vs one classifier on train image is : 0.1397\n",
      "The confusion matrix of one vs one classifier is \n",
      " [[ 944    0    1    2    2    7   14    2    7    1]\n",
      " [   0 1107    2    2    3    1    5    1   14    0]\n",
      " [  18   54  813   26   15    0   42   22   37    5]\n",
      " [   4   17   23  880    5   17    9   21   22   12]\n",
      " [   0   22    6    1  881    5   10    2   11   44]\n",
      " [  23   18    3   72   24  659   23   14   39   17]\n",
      " [  18   10    9    0   22   17  875    0    7    0]\n",
      " [   5   40   16    6   26    0    1  884    0   50]\n",
      " [  14   46   11   30   27   40   15   12  759   20]\n",
      " [  15   11    2   17   80    1    1   77    4  801]]\n",
      "The Predict Accuracy of number 0 is 0.9633\n",
      "The Predict Accuracy of number 1 is 0.9753\n",
      "The Predict Accuracy of number 2 is 0.7878\n",
      "The Predict Accuracy of number 3 is 0.8713\n",
      "The Predict Accuracy of number 4 is 0.8971\n",
      "The Predict Accuracy of number 5 is 0.7388\n",
      "The Predict Accuracy of number 6 is 0.9134\n",
      "The Predict Accuracy of number 7 is 0.8599\n",
      "The Predict Accuracy of number 8 is 0.7793\n",
      "The Predict Accuracy of number 9 is 0.7939\n"
     ]
    }
   ],
   "source": [
    "### Evaluate the training error of one-vs-one and one-vs-all classifier\n",
    "# test Image\n",
    "\n",
    "Error_Rate, Confusion_Matrix = Evaluate(x_test, y_test, Multi_Classifier_One_vs_One, Beta_One_vs_One, Alpha_One_vs_One)\n",
    "print(f'The error rate of one vs one classifier on test image is : {Error_Rate:.4f}')\n",
    "print('The confusion matrix of one vs one classifier is \\n', Confusion_Matrix.astype(np.int64))\n",
    "for i in range(10):\n",
    "    Right = Confusion_Matrix[i, i]\n",
    "    Count = Confusion_Matrix[i, :].sum()\n",
    "    Accuracy = Right/Count\n",
    "    print(f'The Predict Accuracy of number {i} is {Accuracy:.4f}')\n",
    "\n",
    "print('-'*96)\n",
    "\n",
    "Error_Rate, Confusion_Matrix = Evaluate(x_test, y_test, Multi_Classifier_One_vs_All, Beta_One_vs_All, Alpha_One_vs_All)\n",
    "print(f'The error rate of one vs one classifier on test image is : {Error_Rate:.4f}')\n",
    "print('The confusion matrix of one vs one classifier is \\n', Confusion_Matrix.astype(np.int64))\n",
    "for i in range(10):\n",
    "    Right = Confusion_Matrix[i, i]\n",
    "    Count = Confusion_Matrix[i, :].sum()\n",
    "    Accuracy = Right/Count\n",
    "    print(f'The Predict Accuracy of number {i} is {Accuracy:.4f}')"
   ]
  },
  {
   "cell_type": "markdown",
   "metadata": {},
   "source": [
    "### Randomized Feature Based Least Square Classifiers"
   ]
  },
  {
   "cell_type": "code",
   "execution_count": 26,
   "metadata": {},
   "outputs": [],
   "source": [
    "### feature map\n",
    "\n",
    "L = 1000\n",
    "W = np.random.normal(size=(x_train.shape[1]+1, L))\n",
    "\n",
    "def process_data_H(X, y, W):\n",
    "    X_Data = X@W[0:-1] + W[-1]\n",
    "    Y_Data = y\n",
    "    return X_Data, Y_Data"
   ]
  },
  {
   "cell_type": "code",
   "execution_count": 25,
   "metadata": {},
   "outputs": [],
   "source": [
    "### feature map with nonlinear function\n",
    "def Identity_Function(x):\n",
    "    return x\n",
    "\n",
    "def Sigmoid_Function(x):\n",
    "    return 1/(1 + np.exp(-x))\n",
    "\n",
    "def Sinusoidal_Function(x):\n",
    "    return np.sin(x)\n",
    "\n",
    "def ReLU_function(x):\n",
    "    x = 1*(x>0)*x\n",
    "    return x\n",
    "\n",
    "def process_data_H_G(X, y, W, G):\n",
    "    X_Data = X@W[0:-1] + W[-1]\n",
    "    X_Data = G(X_Data)\n",
    "    Y_Data = y\n",
    "    return X_Data, Y_Data"
   ]
  },
  {
   "cell_type": "code",
   "execution_count": 17,
   "metadata": {},
   "outputs": [],
   "source": [
    "### Compare the classification performance for different choices of the feature mapping by changing the non-linearity. \n",
    "\n",
    "NonLinearFunc = [Identity_Function, Sigmoid_Function, Sinusoidal_Function, ReLU_function]"
   ]
  },
  {
   "cell_type": "code",
   "execution_count": 29,
   "metadata": {},
   "outputs": [
    {
     "name": "stdout",
     "output_type": "stream",
     "text": [
      "The error rate of one vs one classifier with Identity_Function on train image is : 0.0619\n",
      "The error rate of one vs one classifier with Identity_Function on test image is : 0.0711\n",
      "The error rate of one vs one classifier with Sigmoid_Function on train image is : 0.0296\n",
      "The error rate of one vs one classifier with Sigmoid_Function on test image is : 0.0451\n",
      "The error rate of one vs one classifier with Sinusoidal_Function on train image is : 0.7889\n",
      "The error rate of one vs one classifier with Sinusoidal_Function on test image is : 0.8611\n",
      "The error rate of one vs one classifier with ReLU_function on train image is : 0.0226\n",
      "The error rate of one vs one classifier with ReLU_function on test image is : 0.0345\n"
     ]
    }
   ],
   "source": [
    "### Performance of different function using one vs one classifier\n",
    "\n",
    "for G in NonLinearFunc:\n",
    "    X_G, Y_G = process_data_H_G(x_train, y_train, W, G)\n",
    "    X_test_G, Y_test_G = process_data_H_G(x_test, y_test, W, G)\n",
    "\n",
    "    Beta_One_vs_One, Alpha_One_vs_One = Train(X_G, Y_G, Method=Multi_Classifier_One_vs_One)\n",
    "\n",
    "    Error_Rate, Confusion_Matrix = Evaluate(X_G, Y_G, Multi_Classifier_One_vs_One, Beta_One_vs_One, Alpha_One_vs_One)\n",
    "    Error_Rate_test, Confusion_Matrix_test = Evaluate(X_test_G, Y_test_G, Multi_Classifier_One_vs_One, Beta_One_vs_One, Alpha_One_vs_One)\n",
    "\n",
    "    print(f'The error rate of one vs one classifier with {G.__name__} on train image is : {Error_Rate:.4f}')\n",
    "    print(f'The error rate of one vs one classifier with {G.__name__} on test image is : {Error_Rate_test:.4f}')"
   ]
  },
  {
   "cell_type": "code",
   "execution_count": 30,
   "metadata": {},
   "outputs": [
    {
     "name": "stdout",
     "output_type": "stream",
     "text": [
      "The error rate of one vs one classifier with Identity_Function on train image is : 0.1472\n",
      "The error rate of one vs one classifier with Identity_Function on test image is : 0.1459\n",
      "The error rate of one vs one classifier with Sigmoid_Function on train image is : 0.0674\n",
      "The error rate of one vs one classifier with Sigmoid_Function on test image is : 0.0698\n",
      "The error rate of one vs one classifier with Sinusoidal_Function on train image is : 0.7995\n",
      "The error rate of one vs one classifier with Sinusoidal_Function on test image is : 0.8589\n",
      "The error rate of one vs one classifier with ReLU_function on train image is : 0.0550\n",
      "The error rate of one vs one classifier with ReLU_function on test image is : 0.0550\n"
     ]
    }
   ],
   "source": [
    "### Performance of different function using one vs all classifier\n",
    "\n",
    "for G in NonLinearFunc:\n",
    "    X_G, Y_G = process_data_H_G(x_train, y_train, W, G)\n",
    "    X_test_G, Y_test_G = process_data_H_G(x_test, y_test, W, G)\n",
    "\n",
    "    Beta_One_vs_All, Alpha_One_vs_All = Train(X_G, Y_G, Method=Multi_Classifier_One_vs_All)\n",
    "    \n",
    "    Error_Rate, Confusion_Matrix = Evaluate(X_G, Y_G, Multi_Classifier_One_vs_All, Beta_One_vs_All, Alpha_One_vs_All)\n",
    "    Error_Rate_test, Confusion_Matrix_test = Evaluate(X_test_G, Y_test_G, Multi_Classifier_One_vs_All, Beta_One_vs_All, Alpha_One_vs_All)\n",
    "    print(f'The error rate of one vs all classifier with {G.__name__} on train image is : {Error_Rate:.4f}')\n",
    "    print(f'The error rate of one vs all classifier with {G.__name__} on test image is : {Error_Rate_test:.4f}')"
   ]
  },
  {
   "cell_type": "code",
   "execution_count": 32,
   "metadata": {},
   "outputs": [
    {
     "name": "stdout",
     "output_type": "stream",
     "text": [
      "The error rate of one vs all classifier with the numbers of features 100 on test image is : 0.1588\n",
      "The error rate of one vs all classifier with the numbers of features 200 on test image is : 0.1427\n",
      "The error rate of one vs all classifier with the numbers of features 300 on test image is : 0.1399\n",
      "The error rate of one vs all classifier with the numbers of features 400 on test image is : 0.1396\n",
      "The error rate of one vs all classifier with the numbers of features 500 on test image is : 0.1404\n",
      "The error rate of one vs all classifier with the numbers of features 600 on test image is : 0.1402\n",
      "The error rate of one vs all classifier with the numbers of features 700 on test image is : 0.1397\n",
      "The error rate of one vs all classifier with the numbers of features 800 on test image is : 0.1466\n",
      "The error rate of one vs all classifier with the numbers of features 900 on test image is : 0.1441\n",
      "The error rate of one vs all classifier with the numbers of features 1000 on test image is : 0.1497\n",
      "The error rate of one vs all classifier with the numbers of features 1100 on test image is : 0.1459\n",
      "The error rate of one vs all classifier with the numbers of features 1200 on test image is : 0.1494\n",
      "The error rate of one vs all classifier with the numbers of features 1300 on test image is : 0.1493\n",
      "The error rate of one vs all classifier with the numbers of features 1400 on test image is : 0.1423\n",
      "The error rate of one vs all classifier with the numbers of features 1500 on test image is : 0.1535\n"
     ]
    }
   ],
   "source": [
    "### Vary the number of features L, and plot the average error rate as a function of the number of features L.\n",
    "# in this problem, i use the Identity Function with one vs all classifier to plot the average error rate of test image\n",
    "\n",
    "ErrorRate = []\n",
    "\n",
    "for L in range(100, 1600, 100):\n",
    "    W = np.random.normal(size=(x_train.shape[1]+1, L))\n",
    "    X_G, Y_G = process_data_H_G(x_train, y_train, W, Identity_Function)\n",
    "    X_test_G, Y_test_G = process_data_H_G(x_test, y_test, W, Identity_Function)\n",
    "    Beta_One_vs_All, Alpha_One_vs_All = Train(X_G, Y_G, Method=Multi_Classifier_One_vs_All)\n",
    "    Error_Rate_test, Confusion_Matrix_test = Evaluate(X_test_G, Y_test_G, Multi_Classifier_One_vs_All, Beta_One_vs_All, Alpha_One_vs_All)\n",
    "    print(f'The error rate of one vs all classifier with the numbers of features {L} on test image is : {Error_Rate_test:.4f}')\n",
    "    ErrorRate.append(Error_Rate_test)"
   ]
  },
  {
   "cell_type": "code",
   "execution_count": 35,
   "metadata": {},
   "outputs": [
    {
     "data": {
      "text/plain": [
       "Text(0.5, 1.0, 'Error rate of different numbers of features')"
      ]
     },
     "execution_count": 35,
     "metadata": {},
     "output_type": "execute_result"
    },
    {
     "data": {
      "image/png": "[encoded data removed]",
      "text/plain": [
       "<Figure size 432x288 with 1 Axes>"
      ]
     },
     "metadata": {
      "needs_background": "light"
     },
     "output_type": "display_data"
    }
   ],
   "source": [
    "L = np.array(range(100, 1600, 100))\n",
    "Error = np.array(ErrorRate)\n",
    "\n",
    "plt.plot(L, Error)\n",
    "plt.title('Error rate of different numbers of features')"
   ]
  },
  {
   "cell_type": "code",
   "execution_count": 47,
   "metadata": {},
   "outputs": [
    {
     "name": "stdout",
     "output_type": "stream",
     "text": [
      "The error rate of one vs all classifier with the different noise levels 1e-08 on test image is : 0.1386\n",
      "The error rate of one vs all classifier with the different noise levels 1e-07 on test image is : 0.1386\n",
      "The error rate of one vs all classifier with the different noise levels 1e-06 on test image is : 0.1386\n",
      "The error rate of one vs all classifier with the different noise levels 1e-05 on test image is : 0.1386\n",
      "The error rate of one vs all classifier with the different noise levels 0.0001 on test image is : 0.1385\n",
      "The error rate of one vs all classifier with the different noise levels 0.001 on test image is : 0.1390\n",
      "The error rate of one vs all classifier with the different noise levels 0.01 on test image is : 0.1386\n",
      "The error rate of one vs all classifier with the different noise levels 0.1 on test image is : 0.1743\n",
      "The error rate of one vs all classifier with the different noise levels 0.2 on test image is : 0.2751\n",
      "The error rate of one vs all classifier with the different noise levels 0.30000000000000004 on test image is : 0.4013\n",
      "The error rate of one vs all classifier with the different noise levels 0.4 on test image is : 0.5120\n",
      "The error rate of one vs all classifier with the different noise levels 0.5 on test image is : 0.5852\n",
      "The error rate of one vs all classifier with the different noise levels 0.6000000000000001 on test image is : 0.6520\n",
      "The error rate of one vs all classifier with the different noise levels 0.7000000000000001 on test image is : 0.6956\n",
      "The error rate of one vs all classifier with the different noise levels 0.8 on test image is : 0.7253\n",
      "The error rate of one vs all classifier with the different noise levels 0.9 on test image is : 0.7361\n"
     ]
    }
   ],
   "source": [
    "### Compare the error rate for different noise levels ϵ and determine the point where the classifier breaks down.\n",
    "E = [1e-8*10**i for i in range(8)]\n",
    "E += [0.1*i for i in range(2, 10)]\n",
    "\n",
    "ErrorRate = []\n",
    "L = 300\n",
    "W = np.random.normal(size=(x_train.shape[1]+1, L))\n",
    "X_G, Y_G = process_data_H_G(x_train, y_train, W, Identity_Function)\n",
    "Beta_One_vs_All, Alpha_One_vs_All = Train(X_G, Y_G, Method=Multi_Classifier_One_vs_All)\n",
    "\n",
    "for e in E:\n",
    "    X_test_G, Y_test_G = process_data_H_G(x_test+np.random.normal(size=x_test.shape, loc=0, scale=e), y_test, W, Identity_Function)\n",
    "    Error_Rate_test, Confusion_Matrix_test = Evaluate(X_test_G, Y_test_G, Multi_Classifier_One_vs_All, Beta_One_vs_All, Alpha_One_vs_All)\n",
    "    ErrorRate.append(Error_Rate_test)\n",
    "    print(f'The error rate of one vs all classifier with the different noise levels {e} on test image is : {Error_Rate_test:.4f}')"
   ]
  },
  {
   "cell_type": "code",
   "execution_count": 48,
   "metadata": {},
   "outputs": [
    {
     "data": {
      "text/plain": [
       "Text(0.5, 1.0, 'Error rate of different nosie level')"
      ]
     },
     "execution_count": 48,
     "metadata": {},
     "output_type": "execute_result"
    },
    {
     "data": {
      "image/png": "[encoded data removed]",
      "text/plain": [
       "<Figure size 432x288 with 1 Axes>"
      ]
     },
     "metadata": {
      "needs_background": "light"
     },
     "output_type": "display_data"
    }
   ],
   "source": [
    "### For a fixed test data point, plot the output of the classifier\n",
    "\n",
    "E = np.array(E)\n",
    "Error = np.array(ErrorRate)\n",
    "\n",
    "plt.plot(E, Error)\n",
    "plt.title('Error rate of different nosie level')"
   ]
  },
  {
   "cell_type": "code",
   "execution_count": 52,
   "metadata": {},
   "outputs": [
    {
     "name": "stdout",
     "output_type": "stream",
     "text": [
      "The error rate of one vs one classifier with Identity_Function and uniform distribution on train image is : 0.0618\n",
      "The error rate of one vs one classifier with Identity_Function on test image is : 0.0707\n",
      "The error rate of one vs all classifier with Identity_Function and uniform distribution on train image is : 0.1393\n",
      "The error rate of one vs all classifier with Identity_Function on test image is : 0.1386\n",
      "The error rate of one vs one classifier with Sigmoid_Function and uniform distribution on train image is : 0.8877\n",
      "The error rate of one vs one classifier with Sigmoid_Function on test image is : 0.8869\n",
      "The error rate of one vs all classifier with Sigmoid_Function and uniform distribution on train image is : 0.8979\n",
      "The error rate of one vs all classifier with Sigmoid_Function on test image is : 0.8982\n",
      "The error rate of one vs one classifier with Sinusoidal_Function and uniform distribution on train image is : 0.7652\n",
      "The error rate of one vs one classifier with Sinusoidal_Function on test image is : 0.8556\n",
      "The error rate of one vs all classifier with Sinusoidal_Function and uniform distribution on train image is : 0.7693\n",
      "The error rate of one vs all classifier with Sinusoidal_Function on test image is : 0.8476\n",
      "The error rate of one vs one classifier with ReLU_function and uniform distribution on train image is : 0.0618\n",
      "The error rate of one vs one classifier with ReLU_function on test image is : 0.0707\n",
      "The error rate of one vs all classifier with ReLU_function and uniform distribution on train image is : 0.1393\n",
      "The error rate of one vs all classifier with ReLU_function on test image is : 0.1386\n"
     ]
    }
   ],
   "source": [
    "### uniform distribution used to generate the matrix W and b\n",
    "L = 1000\n",
    "W = np.random.uniform(size=(x_train.shape[1]+1, L))\n",
    "\n",
    "NonLinearFunc = [Identity_Function, Sigmoid_Function, Sinusoidal_Function, ReLU_function]\n",
    "\n",
    "### Performance of different function using one vs one and one vs all classifier\n",
    "\n",
    "for G in NonLinearFunc:\n",
    "    X_G, Y_G = process_data_H_G(x_train, y_train, W, G)\n",
    "    X_test_G, Y_test_G = process_data_H_G(x_test, y_test, W, G)\n",
    "\n",
    "    Beta_One_vs_One, Alpha_One_vs_One = Train(X_G, Y_G, Method=Multi_Classifier_One_vs_One)\n",
    "\n",
    "    Error_Rate, Confusion_Matrix = Evaluate(X_G, Y_G, Multi_Classifier_One_vs_One, Beta_One_vs_One, Alpha_One_vs_One)\n",
    "    Error_Rate_test, Confusion_Matrix_test = Evaluate(X_test_G, Y_test_G, Multi_Classifier_One_vs_One, Beta_One_vs_One, Alpha_One_vs_One)\n",
    "\n",
    "    print(f'The error rate of one vs one classifier with {G.__name__} and uniform distribution on train image is : {Error_Rate:.4f}')\n",
    "    print(f'The error rate of one vs one classifier with {G.__name__} on test image is : {Error_Rate_test:.4f}')\n",
    "\n",
    "    Beta_One_vs_All, Alpha_One_vs_All = Train(X_G, Y_G, Method=Multi_Classifier_One_vs_All)    \n",
    "    Error_Rate, Confusion_Matrix = Evaluate(X_G, Y_G, Multi_Classifier_One_vs_All, Beta_One_vs_All, Alpha_One_vs_All)\n",
    "    Error_Rate_test, Confusion_Matrix_test = Evaluate(X_test_G, Y_test_G, Multi_Classifier_One_vs_All, Beta_One_vs_All, Alpha_One_vs_All)\n",
    "    print(f'The error rate of one vs all classifier with {G.__name__} and uniform distribution on train image is : {Error_Rate:.4f}')\n",
    "    print(f'The error rate of one vs all classifier with {G.__name__} on test image is : {Error_Rate_test:.4f}')"
   ]
  },
  {
   "cell_type": "code",
   "execution_count": null,
   "metadata": {},
   "outputs": [],
   "source": []
  }
 ],
 "metadata": {
  "interpreter": {
   "hash": "befa846729df2e6a6dfb9ca3de3863388daaf89f0c00a3d80fa42e2081a3a994"
  },
  "kernelspec": {
   "display_name": "Python 3.7.5 64-bit ('AS': conda)",
   "language": "python",
   "name": "python3"
  },
  "language_info": {
   "codemirror_mode": {
    "name": "ipython",
    "version": 3
   },
   "file_extension": ".py",
   "mimetype": "text/x-python",
   "name": "python",
   "nbconvert_exporter": "python",
   "pygments_lexer": "ipython3",
   "version": "3.7.5"
  },
  "orig_nbformat": 4
 },
 "nbformat": 4,
 "nbformat_minor": 2
}
